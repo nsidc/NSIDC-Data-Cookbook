{
 "cells": [
  {
   "cell_type": "markdown",
   "id": "a0431637-bb45-4c26-a1a9-d74b5da26870",
   "metadata": {},
   "source": [
    "# How to regrid sea ice concentration\n",
    "\n",
    "This notebook demonstrates how to regrid daily sea ice concentration data from Sea Ice Index, version 3 (DOI: 10.7265/N5K072F8), from the data's native grid and projection to a 25 km grid in the NSIDC EASE-2 projection.\n"
   ]
  },
  {
   "cell_type": "code",
   "execution_count": 1,
   "id": "27ab3243-c8ec-494e-acd0-4182ec333bf8",
   "metadata": {
    "tags": []
   },
   "outputs": [],
   "source": [
    "from pathlib import Path\n",
    "\n",
    "import rioxarray\n",
    "import xarray as xr\n",
    "\n",
    "from affine import Affine\n",
    "\n",
    "EXAMPLE_DATA = Path('../example_data/N_20230627_concentration_v3.0.tif')"
   ]
  },
  {
   "cell_type": "markdown",
   "id": "ed905f8c-0385-422a-b53e-4d0fd5bd9648",
   "metadata": {},
   "source": [
    "## Open the GeoTIFF\n",
    "\n",
    "The GeoTIFF is opened using `rioxarray.open_rasterio`.  Because the data have only one band, a `xarray.DataArray` object is returned "
   ]
  },
  {
   "cell_type": "code",
   "execution_count": null,
   "id": "0e991190-81e0-429d-9332-7285ccd694ac",
   "metadata": {
    "tags": []
   },
   "outputs": [],
   "source": [
    "da = rioxarray.open_rasterio(EXAMPLE_DATA)"
   ]
  },
  {
   "cell_type": "markdown",
   "id": "d8e7447b-b623-4a07-a8ac-4a72ace7d16c",
   "metadata": {},
   "source": [
    "The `DataArray` can be examined in a Jupyter notebook just by typing `da`."
   ]
  },
  {
   "cell_type": "code",
   "execution_count": null,
   "id": "3c0904e4-8566-406e-afa6-6f8fdde1e796",
   "metadata": {
    "tags": []
   },
   "outputs": [],
   "source": [
    "da"
   ]
  },
  {
   "cell_type": "markdown",
   "id": "2f98b8c5-95f9-4c04-b186-304d08409bd9",
   "metadata": {},
   "source": [
    "The data are in a 3D array with dimensions `band`, `y` and `x`.   These dimensions correspond to three coordinates with the same name.  There is a fourth coordinate `spatial_ref`, that contains the Coordinate Reference System (CRS) for the grid.  Information about the CRS for the data can be displayed by clicking on the file icon of `spatial_ref`.\n",
    "\n",
    "The CRS can be thought of in two parts: the projection information, which is described by the `crs_wkt` (Well Known Text); and the Geotransform, which is described by the `GeoTransform` attribute.  _Maybe explain what map projection and Geotransform are first, then the attributes_.\n",
    "\n"
   ]
  },
  {
   "cell_type": "markdown",
   "id": "043139c6-608f-48a3-97fa-c58257677115",
   "metadata": {},
   "source": [
    "# TODO\n",
    "\n",
    "Add reprojection example"
   ]
  },
  {
   "cell_type": "code",
   "execution_count": null,
   "id": "7e81e8dd-b358-4be9-816e-39c289ce7a0c",
   "metadata": {},
   "outputs": [],
   "source": []
  }
 ],
 "metadata": {
  "kernelspec": {
   "display_name": "Python 3 (ipykernel)",
   "language": "python",
   "name": "python3"
  },
  "language_info": {
   "codemirror_mode": {
    "name": "ipython",
    "version": 3
   },
   "file_extension": ".py",
   "mimetype": "text/x-python",
   "name": "python",
   "nbconvert_exporter": "python",
   "pygments_lexer": "ipython3",
   "version": "3.11.0"
  }
 },
 "nbformat": 4,
 "nbformat_minor": 5
}
