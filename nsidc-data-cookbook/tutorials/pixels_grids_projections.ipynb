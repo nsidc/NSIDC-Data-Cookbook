{
 "cells": [
  {
   "cell_type": "raw",
   "id": "25f76b36-9a4e-4c95-870a-8e9fa7eef2bc",
   "metadata": {},
   "source": [
    "---\n",
    "title: \"Pixels, Grids and Projections\"\n",
    "author: \"Andy P. Barrett\"\n",
    "date: last-modified\n",
    "---"
   ]
  },
  {
   "cell_type": "markdown",
   "id": "52694649-9f26-4c46-a07f-004c2335fafa",
   "metadata": {},
   "source": [
    "# Pixels, Grids and Projections\n",
    "\n",
    "This notebook describes the relationships between images, the map projections of these images, and the location of these images on the Earth.  The material presented here provides a background to understanding what is happening when images are reprojected.\n",
    "\n",
    "After working through the notebook you should understand:\n",
    "- image coordinates  \n",
    "- map or projected coordinates  \n",
    "- map projections  \n",
    "- the relationships between image coordinates, map coordinates and geographic coordinares (lat, lon).\n",
    "\n",
    "The note book uses\n",
    "\n",
    "- `numpy` to introduce the basics of rasters and images \n",
    "- `rasterio` to reproject\n",
    "- `pyproj` \n",
    "- `xarray` and `rioxarray`\n",
    "- `affine`"
   ]
  },
  {
   "cell_type": "code",
   "execution_count": 2,
   "id": "1737b399-a867-41c1-9b3c-fe470dc34db3",
   "metadata": {
    "tags": []
   },
   "outputs": [],
   "source": [
    "import numpy as np\n",
    "import matplotlib.pyplot as plt"
   ]
  },
  {
   "cell_type": "markdown",
   "id": "4e4e6be4-720c-477c-b9a5-f46e51bb5cb7",
   "metadata": {},
   "source": [
    "I use the term _image_ to refer to any raster or gridded data.  A raster is a rectangular array of cells.  Each cell has data value.  Values are arranged in _rows_ and _columns_.\n",
    "\n",
    "Images can include satellite imagery, derived gridded data sets and model output.\n",
    "\n",
    "Below I show a simple array of 10 rows and 5 columns.  Values are 0 and 1."
   ]
  },
  {
   "cell_type": "code",
   "execution_count": 5,
   "id": "96847d2f-88e6-4cac-ade8-7cfcfa694428",
   "metadata": {
    "tags": []
   },
   "outputs": [],
   "source": [
    "a = np.array([[0., 0., 0., 0., 0.],\n",
    "              [0., 0., 1., 0., 0.],\n",
    "              [0., 1., 1., 1., 0.],\n",
    "              [1., 1., 1., 1., 1.],\n",
    "              [1., 1., 0., 1., 1.],\n",
    "              [1., 1., 0., 1., 1.],\n",
    "              [1., 1., 1., 1., 1.],\n",
    "              [0., 1., 1., 1., 0.],\n",
    "              [0., 0., 1., 0., 0.],\n",
    "              [0., 0., 0., 0., 0.]])"
   ]
  },
  {
   "cell_type": "markdown",
   "id": "e951b32e-604d-4e90-965c-8d94c64714fb",
   "metadata": {},
   "source": [
    "`matplotlib.pyplot.imshow` can be used to plot the image."
   ]
  },
  {
   "cell_type": "code",
   "execution_count": 16,
   "id": "1ec24a1a-63b4-42d8-af7d-e98b469d247d",
   "metadata": {
    "tags": []
   },
   "outputs": [
    {
     "data": {
      "image/png": "[encoded data removed]",
      "text/plain": [
       "<Figure size 640x480 with 1 Axes>"
      ]
     },
     "metadata": {},
     "output_type": "display_data"
    }
   ],
   "source": [
    "fig, ax = plt.subplots()\n",
    "ax.imshow(a, extent=[0,5,10,0])\n",
    "ax.set_xticks(np.arange(6))\n",
    "ax.set_yticks(np.arange(11))\n",
    "ax.tick_params(labelbottom=False, bottom=False, labelleft=False, left=False)\n",
    "ax.grid()"
   ]
  },
  {
   "cell_type": "markdown",
   "id": "15311a85-ea63-4e80-9870-454eee420802",
   "metadata": {},
   "source": [
    "Cells can be references by row and column indices.  For example, the value in first row and second column is indexed as"
   ]
  },
  {
   "cell_type": "code",
   "execution_count": 19,
   "id": "65737418-57ab-4ee1-8f96-ce58c2e16625",
   "metadata": {
    "tags": []
   },
   "outputs": [
    {
     "data": {
      "text/plain": [
       "0.0"
      ]
     },
     "execution_count": 19,
     "metadata": {},
     "output_type": "execute_result"
    }
   ],
   "source": [
    "a[0,1]"
   ]
  },
  {
   "cell_type": "markdown",
   "id": "65831546-93d1-4f95-9703-10e3c2f36559",
   "metadata": {},
   "source": [
    "However, images represent areas, not points.  While it is often useful to index cells, we also want a way to reference any point in the image (maybe even outside the image).  For example, how can the point P in Figure N be referenced?"
   ]
  },
  {
   "cell_type": "code",
   "execution_count": 28,
   "id": "93603138-e915-46d1-9b4b-d07bc7935406",
   "metadata": {
    "tags": []
   },
   "outputs": [
    {
     "data": {
      "image/png": "[encoded data removed]",
      "text/plain": [
       "<Figure size 640x480 with 1 Axes>"
      ]
     },
     "metadata": {},
     "output_type": "display_data"
    }
   ],
   "source": [
    "fig, ax = plt.subplots()\n",
    "ax.imshow(a, extent=[0,5,10,0])\n",
    "ax.set_xticks(np.arange(6))\n",
    "ax.set_yticks(np.arange(11))\n",
    "ax.tick_params(labelbottom=False, bottom=False, labelleft=False, left=False)\n",
    "ax.scatter([2.3], [4.2], marker='o')\n",
    "ax.annotate(\"P\", (2.3, 4.2), xytext=(1.5, 1.5), textcoords=\"offset points\", fontsize=20)\n",
    "ax.grid()"
   ]
  },
  {
   "cell_type": "markdown",
   "id": "6bc56e5c-d964-44ad-a4ca-ea8333131ac9",
   "metadata": {},
   "source": [
    "- Add image coords"
   ]
  },
  {
   "cell_type": "markdown",
   "id": "06010d1d-27f5-4d4b-8763-4b0e0a7bbda4",
   "metadata": {},
   "source": [
    "## Map Cordinates\n",
    "\n",
    "- need a way to place image in the real world.\n",
    "- images are 2D representations of the Earth surface\n",
    "- Introduce simple algebra to relate image to map coordinates\n",
    "- Introduce affine matrix."
   ]
  },
  {
   "cell_type": "code",
   "execution_count": null,
   "id": "4bc8fe21-7440-4660-8649-3f9e09491293",
   "metadata": {},
   "outputs": [],
   "source": []
  },
  {
   "cell_type": "markdown",
   "id": "92ffab98-b651-422f-a063-26e4cfde0184",
   "metadata": {},
   "source": [
    "## Map Projections and Coordinate Reference Systems"
   ]
  },
  {
   "cell_type": "code",
   "execution_count": null,
   "id": "c51134e9-4fb7-4e6d-a2ec-6dc65abe6bbc",
   "metadata": {},
   "outputs": [],
   "source": []
  }
 ],
 "metadata": {
  "kernelspec": {
   "display_name": "Python 3 (ipykernel)",
   "language": "python",
   "name": "python3"
  },
  "language_info": {
   "codemirror_mode": {
    "name": "ipython",
    "version": 3
   },
   "file_extension": ".py",
   "mimetype": "text/x-python",
   "name": "python",
   "nbconvert_exporter": "python",
   "pygments_lexer": "ipython3",
   "version": "3.11.0"
  }
 },
 "nbformat": 4,
 "nbformat_minor": 5
}
